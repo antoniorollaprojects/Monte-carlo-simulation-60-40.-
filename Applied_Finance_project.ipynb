{
  "cells": [
    {
      "cell_type": "code",
      "source": [],
      "metadata": {
        "id": "TVuc0-fXKrvZ"
      },
      "execution_count": null,
      "outputs": []
    },
    {
      "cell_type": "markdown",
      "source": [
        "# Monte Carlo simulation for 60-40 portfolio"
      ],
      "metadata": {
        "id": "ENMi-qS0U7gp"
      }
    },
    {
      "cell_type": "code",
      "source": [],
      "metadata": {
        "id": "1egBjHurMraX"
      },
      "execution_count": null,
      "outputs": []
    },
    {
      "cell_type": "markdown",
      "source": [],
      "metadata": {
        "id": "Y0ib02hLMyFc"
      }
    },
    {
      "cell_type": "markdown",
      "source": [
        "# Nuova sezione"
      ],
      "metadata": {
        "id": "Xp6aDeVoUFSv"
      }
    },
    {
      "cell_type": "code",
      "source": [
        "from google.colab import files\n",
        "files.download(\"hist_60_40.png\")\n",
        "\n"
      ],
      "metadata": {
        "colab": {
          "base_uri": "https://localhost:8080/",
          "height": 17
        },
        "id": "t6tILIOvULe4",
        "outputId": "ef6e28e4-fa98-4462-a3cc-ec534631beb9"
      },
      "execution_count": null,
      "outputs": [
        {
          "output_type": "display_data",
          "data": {
            "text/plain": [
              "<IPython.core.display.Javascript object>"
            ],
            "application/javascript": [
              "\n",
              "    async function download(id, filename, size) {\n",
              "      if (!google.colab.kernel.accessAllowed) {\n",
              "        return;\n",
              "      }\n",
              "      const div = document.createElement('div');\n",
              "      const label = document.createElement('label');\n",
              "      label.textContent = `Downloading \"${filename}\": `;\n",
              "      div.appendChild(label);\n",
              "      const progress = document.createElement('progress');\n",
              "      progress.max = size;\n",
              "      div.appendChild(progress);\n",
              "      document.body.appendChild(div);\n",
              "\n",
              "      const buffers = [];\n",
              "      let downloaded = 0;\n",
              "\n",
              "      const channel = await google.colab.kernel.comms.open(id);\n",
              "      // Send a message to notify the kernel that we're ready.\n",
              "      channel.send({})\n",
              "\n",
              "      for await (const message of channel.messages) {\n",
              "        // Send a message to notify the kernel that we're ready.\n",
              "        channel.send({})\n",
              "        if (message.buffers) {\n",
              "          for (const buffer of message.buffers) {\n",
              "            buffers.push(buffer);\n",
              "            downloaded += buffer.byteLength;\n",
              "            progress.value = downloaded;\n",
              "          }\n",
              "        }\n",
              "      }\n",
              "      const blob = new Blob(buffers, {type: 'application/binary'});\n",
              "      const a = document.createElement('a');\n",
              "      a.href = window.URL.createObjectURL(blob);\n",
              "      a.download = filename;\n",
              "      div.appendChild(a);\n",
              "      a.click();\n",
              "      div.remove();\n",
              "    }\n",
              "  "
            ]
          },
          "metadata": {}
        },
        {
          "output_type": "display_data",
          "data": {
            "text/plain": [
              "<IPython.core.display.Javascript object>"
            ],
            "application/javascript": [
              "download(\"download_73c4f13e-6416-40d3-a2d5-0941b4f8d901\", \"hist_60_40.png\", 47130)"
            ]
          },
          "metadata": {}
        }
      ]
    },
    {
      "cell_type": "code",
      "source": [
        "# simple_60_40_colab.py  (paste this into a Colab/Jupyter cell)\n",
        "%matplotlib inline\n",
        "import numpy as np\n",
        "import matplotlib.pyplot as plt\n",
        "\n",
        "# ---------- SETTINGS (easy to edit) ----------\n",
        "EQ_MEAN = 0.08    # equity expected annual return (8%)\n",
        "EQ_VOL  = 0.15    # equity annual vol (15%)\n",
        "\n",
        "BND_MEAN = 0.02   # bond expected annual return (2%)\n",
        "BND_VOL  = 0.04   # bond annual vol (4%)\n",
        "\n",
        "CORR = 0.20       # correlation equity-bond\n",
        "W_EQ = 0.60       # 60% equities\n",
        "W_BND = 0.40      # 40% bonds\n",
        "\n",
        "N_SIMS = 100_000  # number of simulated years (reduce to 20_000 if it's slow)\n",
        "SEED = 2025\n",
        "\n",
        "# ---------- SIMULATE ----------\n",
        "rng = np.random.default_rng(SEED)\n",
        "means = np.array([EQ_MEAN, BND_MEAN])\n",
        "cov = np.array([\n",
        "    [EQ_VOL**2, CORR * EQ_VOL * BND_VOL],\n",
        "    [CORR * EQ_VOL * BND_VOL, BND_VOL**2]\n",
        "])\n",
        "\n",
        "draws = rng.multivariate_normal(means, cov, size=N_SIMS)  # (N_SIMS, 2)\n",
        "r_eq = draws[:,0]\n",
        "r_b  = draws[:,1]\n",
        "\n",
        "# portfolio simple return (one-year)\n",
        "r_port = W_EQ * r_eq + W_BND * r_b\n",
        "\n",
        "# ---------- METRICS ----------\n",
        "mean_r = r_port.mean()\n",
        "std_r = r_port.std(ddof=1)\n",
        "\n",
        "def var_es(returns, alpha):\n",
        "    q = np.percentile(returns, (1-alpha)*100)   # e.g. alpha=0.95 -> 5th percentile\n",
        "    var = -q\n",
        "    losses = -returns\n",
        "    tail = losses[losses >= var]\n",
        "    es = tail.mean() if len(tail)>0 else np.nan\n",
        "    return var, es, q\n",
        "\n",
        "var95, es95, q95 = var_es(r_port, 0.95)\n",
        "var99, es99, q99 = var_es(r_port, 0.99)\n",
        "\n",
        "# ---------- PRINT ----------\n",
        "print(\"Simple 60/40 Monte Carlo (annual returns, normal approx)\")\n",
        "print(f\"N sims: {N_SIMS}\")\n",
        "print(f\"Mean annual return: {mean_r:.2%}\")\n",
        "print(f\"Std dev (annual):   {std_r:.2%}\")\n",
        "print()\n",
        "print(f\"95% VaR (loss): {var95:.2%}   (i.e. 5% worst-case loss ≥ {var95:.2%})\")\n",
        "print(f\"95% ES:         {es95:.2%}\")\n",
        "print(f\"99% VaR (loss): {var99:.2%}\")\n",
        "print(f\"99% ES:         {es99:.2%}\")\n",
        "\n",
        "# ---------- PLOT ----------\n",
        "plt.figure(figsize=(8,4))\n",
        "plt.hist(r_port, bins=120, alpha=0.9)\n",
        "plt.axvline(q95, color='r', linestyle='--', label='5th pct (VaR95)')\n",
        "plt.axvline(q99, color='m', linestyle='--', label='1st pct (VaR99)')\n",
        "plt.axvline(mean_r, color='k', linestyle='-', label='mean')\n",
        "plt.xlabel('One-year total return')\n",
        "plt.ylabel('Frequency')\n",
        "plt.title('Simple 60/40 portfolio annual returns (simulated)')\n",
        "plt.legend()\n",
        "plt.tight_layout()\n",
        "plt.savefig('hist_60_40.png', dpi=150)   # saves a PNG in Colab file system (you can download)\n",
        "plt.show()\n"
      ],
      "metadata": {
        "colab": {
          "base_uri": "https://localhost:8080/",
          "height": 493
        },
        "id": "idLqd_fVMyVc",
        "outputId": "46458248-2c07-4933-f037-2a9d24fbcb90"
      },
      "execution_count": null,
      "outputs": [
        {
          "output_type": "stream",
          "name": "stdout",
          "text": [
            "Simple 60/40 Monte Carlo (annual returns, normal approx)\n",
            "N sims: 100000\n",
            "Mean annual return: 5.62%\n",
            "Std dev (annual):   9.46%\n",
            "\n",
            "95% VaR (loss): 9.84%   (i.e. 5% worst-case loss ≥ 9.84%)\n",
            "95% ES:         13.77%\n",
            "99% VaR (loss): 16.14%\n",
            "99% ES:         19.40%\n"
          ]
        },
        {
          "output_type": "display_data",
          "data": {
            "text/plain": [
              "<Figure size 800x400 with 1 Axes>"
            ],
            "image/png": "[encoded data removed]"
          },
          "metadata": {}
        }
      ]
    }
  ],
  "metadata": {
    "colab": {
      "toc_visible": true,
      "provenance": []
    },
    "kernelspec": {
      "display_name": "Python 3",
      "name": "python3"
    }
  },
  "nbformat": 4,
  "nbformat_minor": 0
}